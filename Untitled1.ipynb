{
 "cells": [
  {
   "cell_type": "code",
   "execution_count": 1,
   "id": "guilty-ballot",
   "metadata": {},
   "outputs": [],
   "source": [
    "import numpy as np\n",
    "import pandas as pd"
   ]
  },
  {
   "cell_type": "code",
   "execution_count": 2,
   "id": "resident-partner",
   "metadata": {},
   "outputs": [],
   "source": [
    "df = pd.read_csv('store_data.csv' , header=None)"
   ]
  },
  {
   "cell_type": "markdown",
   "id": "serial-guyana",
   "metadata": {},
   "source": [
    "## To ind the Support \n"
   ]
  },
  {
   "cell_type": "code",
   "execution_count": 4,
   "id": "prescribed-atlantic",
   "metadata": {},
   "outputs": [],
   "source": [
    "##Making the list we need to iterate the each transaction\n",
    "transaction_list = df.values.tolist()\n",
    "##Creating the numpyArray just in case i Need it the future\n",
    "transaction_array = np.array(transaction_list)"
   ]
  },
  {
   "cell_type": "code",
   "execution_count": 6,
   "id": "humanitarian-charleston",
   "metadata": {},
   "outputs": [],
   "source": [
    "## to count the occurence of each itemset in each transaction\n",
    "item_dix = {}\n",
    "for i in range(0 , len(transaction_list)):\n",
    "    for j in range(0,len(transaction_list[i])):\n",
    "        if transaction_list[i][j] not in item_dix:\n",
    "            item_dix[transaction_list[i][j]] = 1\n",
    "        else:\n",
    "             item_dix[transaction_list[i][j]] =   item_dix.get(transaction_list[i][j]) + 1\n",
    "            \n",
    "            "
   ]
  },
  {
   "cell_type": "code",
   "execution_count": 7,
   "id": "complimentary-train",
   "metadata": {},
   "outputs": [
    {
     "name": "stdout",
     "output_type": "stream",
     "text": [
      "{'shrimp': 536, 'almonds': 153, 'avocado': 250, 'vegetables mix': 193, 'green grapes': 68, 'whole weat flour': 70, 'yams': 86, 'cottage cheese': 239, 'energy drink': 200, 'tomato juice': 228, 'low fat yogurt': 574, 'green tea': 991, 'honey': 356, 'salad': 37, 'mineral water': 1788, 'salmon': 319, 'antioxydant juice': 67, 'frozen smoothie': 475, 'spinach': 53, 'olive oil': 494, 'burgers': 654, 'meatballs': 157, 'eggs': 1348, nan: 120657, 'chutney': 31, 'turkey': 469, 'milk': 972, 'energy bar': 203, 'whole wheat rice': 439, 'whole wheat pasta': 221, 'french fries': 1282, 'soup': 379, 'light cream': 117, 'shallot': 58, 'frozen vegetables': 715, 'spaghetti': 1306, 'pet food': 49, 'cookies': 603, 'cooking oil': 383, 'champagne': 351, 'chocolate': 1230, 'chicken': 450, 'oil': 173, 'fresh tuna': 167, 'tomatoes': 513, 'black tea': 107, 'extra dark chocolate': 90, 'protein bar': 139, 'red wine': 211, 'pasta': 118, 'pepper': 199, 'shampoo': 37, 'rice': 141, 'sparkling water': 47, 'ham': 203, 'body spray': 86, 'pancakes': 713, 'grated cheese': 393, 'white wine': 124, 'toothpaste': 61, 'parmesan cheese': 149, 'fresh bread': 323, 'ground beef': 737, 'escalope': 595, 'herb & pepper': 371, 'tomato sauce': 106, 'magazines': 82, 'strawberries': 160, 'strong cheese': 58, 'pickles': 45, 'cake': 608, 'hot dogs': 243, 'brownies': 253, 'cereals': 193, 'clothes accessories': 63, 'bug spray': 65, 'muffins': 181, 'light mayo': 204, 'gums': 101, 'soda': 47, 'cider': 79, 'corn': 36, 'yogurt cake': 205, 'mint': 131, 'butter': 226, 'asparagus': 35, 'french wine': 169, 'salt': 69, 'tea': 29, 'barbecue sauce': 81, 'mayonnaise': 46, 'zucchini': 71, 'carrots': 115, 'mushroom cream sauce': 143, 'candy bars': 73, 'chili': 46, 'mashed potato': 31, 'nonfat milk': 78, 'water spray': 3, 'chocolate bread': 32, 'mint green tea': 42, 'eggplant': 99, 'blueberries': 69, 'bacon': 65, 'fromage blanc': 102, 'gluten free bar': 52, 'dessert wine': 33, 'flax seed': 68, 'hand protein bar': 39, 'sandwich': 34, 'babies food': 34, 'melons': 90, 'cauliflower': 36, 'green beans': 65, 'ketchup': 33, 'bramble': 14, 'burger sauce': 44, 'oatmeal': 33, ' asparagus': 1, 'cream': 7, 'napkins': 5}\n"
     ]
    }
   ],
   "source": [
    "print(item_dix)"
   ]
  },
  {
   "cell_type": "code",
   "execution_count": 8,
   "id": "foreign-garlic",
   "metadata": {},
   "outputs": [],
   "source": [
    "## I only care about the value so storing it in another list\n",
    "values = []\n",
    "values.append(item_dix.values())"
   ]
  },
  {
   "cell_type": "code",
   "execution_count": 9,
   "id": "funny-castle",
   "metadata": {},
   "outputs": [
    {
     "data": {
      "text/html": [
       "<div>\n",
       "<style scoped>\n",
       "    .dataframe tbody tr th:only-of-type {\n",
       "        vertical-align: middle;\n",
       "    }\n",
       "\n",
       "    .dataframe tbody tr th {\n",
       "        vertical-align: top;\n",
       "    }\n",
       "\n",
       "    .dataframe thead th {\n",
       "        text-align: right;\n",
       "    }\n",
       "</style>\n",
       "<table border=\"1\" class=\"dataframe\">\n",
       "  <thead>\n",
       "    <tr style=\"text-align: right;\">\n",
       "      <th></th>\n",
       "      <th>0</th>\n",
       "    </tr>\n",
       "  </thead>\n",
       "  <tbody>\n",
       "    <tr>\n",
       "      <th>count</th>\n",
       "      <td>121.000000</td>\n",
       "    </tr>\n",
       "    <tr>\n",
       "      <th>mean</th>\n",
       "      <td>0.165289</td>\n",
       "    </tr>\n",
       "    <tr>\n",
       "      <th>std</th>\n",
       "      <td>1.459958</td>\n",
       "    </tr>\n",
       "    <tr>\n",
       "      <th>min</th>\n",
       "      <td>0.000133</td>\n",
       "    </tr>\n",
       "    <tr>\n",
       "      <th>25%</th>\n",
       "      <td>0.007732</td>\n",
       "    </tr>\n",
       "    <tr>\n",
       "      <th>50%</th>\n",
       "      <td>0.015731</td>\n",
       "    </tr>\n",
       "    <tr>\n",
       "      <th>75%</th>\n",
       "      <td>0.042528</td>\n",
       "    </tr>\n",
       "    <tr>\n",
       "      <th>max</th>\n",
       "      <td>16.085455</td>\n",
       "    </tr>\n",
       "  </tbody>\n",
       "</table>\n",
       "</div>"
      ],
      "text/plain": [
       "                0\n",
       "count  121.000000\n",
       "mean     0.165289\n",
       "std      1.459958\n",
       "min      0.000133\n",
       "25%      0.007732\n",
       "50%      0.015731\n",
       "75%      0.042528\n",
       "max     16.085455"
      ]
     },
     "execution_count": 9,
     "metadata": {},
     "output_type": "execute_result"
    }
   ],
   "source": [
    "df1 = pd.DataFrame(values)\n",
    "df2=df1.T  # Taking the Transpose\n",
    "df3=df2/7501 # to find the support of each item \n",
    "df3.describe()"
   ]
  },
  {
   "cell_type": "code",
   "execution_count": null,
   "id": "blocked-burner",
   "metadata": {},
   "outputs": [],
   "source": [
    "## so what should be taken as minimum support mean or median ?"
   ]
  }
 ],
 "metadata": {
  "kernelspec": {
   "display_name": "Python 3",
   "language": "python",
   "name": "python3"
  },
  "language_info": {
   "codemirror_mode": {
    "name": "ipython",
    "version": 3
   },
   "file_extension": ".py",
   "mimetype": "text/x-python",
   "name": "python",
   "nbconvert_exporter": "python",
   "pygments_lexer": "ipython3",
   "version": "3.9.1"
  }
 },
 "nbformat": 4,
 "nbformat_minor": 5
}
